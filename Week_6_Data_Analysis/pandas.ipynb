{
 "cells": [
  {
   "cell_type": "code",
   "execution_count": 2,
   "metadata": {},
   "outputs": [],
   "source": [
    "import pandas as pd"
   ]
  },
  {
   "cell_type": "markdown",
   "metadata": {},
   "source": [
    "1. Pandas Series\n",
    "\n",
    "    A Pandas Series is a one-dimensional labeled array. Each element in a Series has an associated index, which allows you to access data using labels or integer positions."
   ]
  },
  {
   "cell_type": "code",
   "execution_count": 4,
   "metadata": {},
   "outputs": [
    {
     "name": "stdout",
     "output_type": "stream",
     "text": [
      "0    10\n",
      "1    20\n",
      "2    30\n",
      "3    40\n",
      "dtype: int64\n",
      "Custom PD\n",
      "a     1\n",
      "b     2\n",
      "c     3\n",
      "d    40\n",
      "dtype: int64\n"
     ]
    }
   ],
   "source": [
    "s = pd.Series([10, 20, 30, 40])\n",
    "print(s)\n",
    "\n",
    "print(\"Custom PD\")\n",
    "#providing custom index\n",
    "p = pd.Series([1, 2, 3, 40], index=['a', 'b', 'c', 'd'])\n",
    "print(p)\n"
   ]
  },
  {
   "cell_type": "markdown",
   "metadata": {},
   "source": [
    "2. Indexing in Pandas Series\n",
    "\n",
    "Indexing allows us to access specific elements in a Series by position or label.\n",
    "\n",
    "    Using position: We can use .iloc[] to index by integer position (like in Python lists).\n",
    "\n",
    "    Using labels: We can use .loc[] to index by the index labels."
   ]
  },
  {
   "cell_type": "code",
   "execution_count": 5,
   "metadata": {},
   "outputs": [
    {
     "name": "stdout",
     "output_type": "stream",
     "text": [
      "10\n",
      "30\n",
      "1\n",
      "3\n"
     ]
    }
   ],
   "source": [
    "print(s.iloc[0]) \n",
    "print(s.iloc[2]) \n",
    "\n",
    "print(p.loc['a']) \n",
    "print(p.loc['c'])  \n"
   ]
  },
  {
   "cell_type": "code",
   "execution_count": 7,
   "metadata": {},
   "outputs": [
    {
     "name": "stdout",
     "output_type": "stream",
     "text": [
      "1    20\n",
      "2    30\n",
      "3    40\n",
      "dtype: int64\n",
      "a    1\n",
      "b    2\n",
      "c    3\n",
      "dtype: int64\n"
     ]
    }
   ],
   "source": [
    "# From position 1 to 3 \n",
    "print(s.iloc[1:4]) \n",
    "# From label 'a' to label 'c'\n",
    "print(p['a':'c']) \n"
   ]
  },
  {
   "cell_type": "markdown",
   "metadata": {},
   "source": [
    "3. Pandas Dataframe\n",
    "\n",
    "A Pandas DataFrame is a two-dimensional, size-mutable, and potentially heterogeneous tabular data structure with labeled axes (rows and columns). It's the core structure for most data analysis tasks."
   ]
  },
  {
   "cell_type": "code",
   "execution_count": 11,
   "metadata": {},
   "outputs": [
    {
     "name": "stdout",
     "output_type": "stream",
     "text": [
      "   Name  Age         City\n",
      "0  John   28     New York\n",
      "1  Jane   34      Chicago\n",
      "2  Jake   29  Los Angeles\n",
      "3  Jill   42        Miami\n",
      "****************\n",
      "0    John\n",
      "1    Jane\n",
      "2    Jake\n",
      "3    Jill\n",
      "Name: Name, dtype: object\n",
      "****************\n",
      "   Age         City\n",
      "0   28     New York\n",
      "1   34      Chicago\n",
      "2   29  Los Angeles\n",
      "3   42        Miami\n"
     ]
    }
   ],
   "source": [
    "data = {'Name': ['John', 'Jane', 'Jake', 'Jill'],\n",
    "        'Age': [28, 34, 29, 42],\n",
    "        'City': ['New York', 'Chicago', 'Los Angeles', 'Miami']}\n",
    "\n",
    "df = pd.DataFrame(data)\n",
    "print(df)\n",
    "print(\"****************\")\n",
    "print(df['Name'])\n",
    "print(\"****************\")\n",
    "print(df[['Age','City']])"
   ]
  },
  {
   "cell_type": "markdown",
   "metadata": {},
   "source": [
    "4. Conditional Selection (Boolean Indexing)\n",
    "\n",
    "We can filter data based on conditions using Boolean indexing. We can also provide multiple conditions like combination of AND & OR"
   ]
  },
  {
   "cell_type": "code",
   "execution_count": 18,
   "metadata": {},
   "outputs": [
    {
     "name": "stdout",
     "output_type": "stream",
     "text": [
      "2    30\n",
      "3    40\n",
      "dtype: int64\n",
      "**************\n",
      "   Name  Age     City\n",
      "1  Jane   34  Chicago\n",
      "3  Jill   42    Miami\n",
      "**************\n",
      "   Name  Age     City\n",
      "1  Jane   34  Chicago\n",
      "**************\n",
      "   Name  Age     City\n",
      "1  Jane   34  Chicago\n",
      "3  Jill   42    Miami\n"
     ]
    }
   ],
   "source": [
    "# Select values in Series greater than 25\n",
    "print(s[s > 25])  \n",
    "\n",
    "print(\"**************\")\n",
    "\n",
    "# Select rows where Age > 30\n",
    "print(df[df['Age'] > 30]) \n",
    "\n",
    "print(\"**************\")\n",
    "\n",
    "# Select rows where Age > 30 and City is 'Chicago'\n",
    "print(df[(df['Age'] > 30) & (df['City'] == 'Chicago')])\n",
    "\n",
    "print(\"**************\")\n",
    "\n",
    "# Select rows where Age > 30 or City is 'Miami'\n",
    "print(df[(df['Age'] > 30) | (df['City'] == 'Miami')])\n",
    "\n"
   ]
  },
  {
   "cell_type": "code",
   "execution_count": 19,
   "metadata": {},
   "outputs": [
    {
     "name": "stdout",
     "output_type": "stream",
     "text": [
      "   Name  Age           City  Salary\n",
      "0  John   28       New York   50000\n",
      "1  Jane   35  San Francisco   60000\n",
      "2  Jake   29    Los Angeles   55000\n",
      "3  Jill   42  San Francisco   70000\n"
     ]
    }
   ],
   "source": [
    "# Modifying age of the row with index 1\n",
    "df.loc[1, 'Age'] = 35\n",
    "\n",
    "# Modifying city for rows where Age > 30\n",
    "df.loc[df['Age'] > 30, 'City'] = 'San Francisco'\n",
    "\n",
    "# Addong a new column \n",
    "df['Salary'] = [50000, 60000, 55000, 70000]\n",
    "print(df)\n"
   ]
  }
 ],
 "metadata": {
  "kernelspec": {
   "display_name": "datavenv",
   "language": "python",
   "name": "python3"
  },
  "language_info": {
   "codemirror_mode": {
    "name": "ipython",
    "version": 3
   },
   "file_extension": ".py",
   "mimetype": "text/x-python",
   "name": "python",
   "nbconvert_exporter": "python",
   "pygments_lexer": "ipython3",
   "version": "3.12.3"
  }
 },
 "nbformat": 4,
 "nbformat_minor": 2
}
