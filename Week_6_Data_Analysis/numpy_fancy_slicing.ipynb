{
 "cells": [
  {
   "cell_type": "code",
   "execution_count": 2,
   "metadata": {},
   "outputs": [],
   "source": [
    "import numpy as np"
   ]
  },
  {
   "cell_type": "markdown",
   "metadata": {},
   "source": [
    "Numpy Indexing Slicing Boolean Index Fancy Index"
   ]
  },
  {
   "cell_type": "markdown",
   "metadata": {},
   "source": [
    "1. Boolean Indexing\n",
    "\n",
    "Boolean indexing is basically a method to return a return a new array depending upon the condition specified. It basically allows us to select elements based on a condition. It returns a new array with elements that match the condition."
   ]
  },
  {
   "cell_type": "code",
   "execution_count": 3,
   "metadata": {},
   "outputs": [
    {
     "name": "stdout",
     "output_type": "stream",
     "text": [
      "[False False  True  True  True]\n",
      "[30 40 50]\n",
      "[10 20 30]\n"
     ]
    }
   ],
   "source": [
    "a = np.array([10, 20, 30, 40, 50])\n",
    "condition = a > 25\n",
    "print(condition)       \n",
    "print(a[condition])    \n",
    "\n",
    "#More better way\n",
    "print(a[a < 40])     \n"
   ]
  },
  {
   "cell_type": "markdown",
   "metadata": {},
   "source": [
    "2. Fancy Indexing\n",
    "\n",
    "Fancy indexing means using arrays or lists of indices to pick specific elements in a custom order."
   ]
  },
  {
   "cell_type": "code",
   "execution_count": 4,
   "metadata": {},
   "outputs": [
    {
     "name": "stdout",
     "output_type": "stream",
     "text": [
      "[10 40 50]\n",
      "[[1 2]\n",
      " [5 6]]\n",
      "[1 6]\n"
     ]
    }
   ],
   "source": [
    "a = np.array([10, 20, 30, 40, 50])\n",
    "indices = [0, 3, 4]\n",
    "print(a[indices])      \n",
    "\n",
    "# On 2D arrays\n",
    "b = np.array([[1, 2], [3, 4], [5, 6]])\n",
    "print(b[[0, 2]])       # Select rows 0 and 2 → [[1, 2], [5, 6]]\n",
    "print(b[[0, 2], [0,1]])       # Select rows 0, column 0 and row 2, column 1 → [1, 6]\n"
   ]
  }
 ],
 "metadata": {
  "kernelspec": {
   "display_name": "datavenv",
   "language": "python",
   "name": "python3"
  },
  "language_info": {
   "codemirror_mode": {
    "name": "ipython",
    "version": 3
   },
   "file_extension": ".py",
   "mimetype": "text/x-python",
   "name": "python",
   "nbconvert_exporter": "python",
   "pygments_lexer": "ipython3",
   "version": "3.12.3"
  }
 },
 "nbformat": 4,
 "nbformat_minor": 2
}
