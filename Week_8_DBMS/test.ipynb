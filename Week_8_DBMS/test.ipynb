{
 "cells": [
  {
   "cell_type": "code",
   "execution_count": 4,
   "metadata": {},
   "outputs": [],
   "source": [
    "from pymongo import MongoClient"
   ]
  },
  {
   "cell_type": "code",
   "execution_count": 5,
   "metadata": {},
   "outputs": [],
   "source": [
    "client = MongoClient(\"mongodb://localhost:27018/\")"
   ]
  },
  {
   "cell_type": "code",
   "execution_count": 6,
   "metadata": {},
   "outputs": [],
   "source": [
    "db = client[\"mydb\"]\n",
    "coll = db.get_collection(name=\"employee\")"
   ]
  },
  {
   "cell_type": "code",
   "execution_count": 7,
   "metadata": {},
   "outputs": [
    {
     "name": "stdout",
     "output_type": "stream",
     "text": [
      "{'_id': ObjectId('67e4d8003149916b3ab7a75b'), 'employee_id': 205, 'first_name': 'Shelley', 'last_name': 'Higgins', 'hire_date': '2002-06-07'}\n",
      "{'_id': ObjectId('67e4d8003149916b3ab7a75c'), 'employee_id': 204, 'first_name': 'Hermann', 'last_name': 'Baer', 'hire_date': '2002-06-07'}\n",
      "{'_id': ObjectId('67e4d8003149916b3ab7a75d'), 'employee_id': 203, 'first_name': 'Susan', 'last_name': 'Mavris', 'hire_date': '2002-06-07'}\n",
      "{'_id': ObjectId('67e4d8003149916b3ab7a75e'), 'employee_id': 202, 'first_name': 'Pat', 'last_name': 'Fay', 'hire_date': '2005-08-17'}\n",
      "{'_id': ObjectId('67e4d8003149916b3ab7a75f'), 'employee_id': 201, 'first_name': 'Michael', 'last_name': 'Hartstein', 'hire_date': '2004-02-17'}\n",
      "{'_id': ObjectId('67e4d8003149916b3ab7a760'), 'employee_id': 200, 'first_name': 'Jennifer', 'last_name': 'Whalen', 'hire_date': '2003-09-17'}\n",
      "{'_id': ObjectId('67e4d8003149916b3ab7a761'), 'employee_id': 199, 'first_name': 'Douglas', 'last_name': 'Grant', 'hire_date': '2008-01-13'}\n",
      "{'_id': ObjectId('67e4d8003149916b3ab7a762'), 'employee_id': 140, 'first_name': 'Joshua', 'last_name': 'Patel', 'hire_date': '2006-04-06'}\n",
      "{'_id': ObjectId('67e4d8003149916b3ab7a763'), 'employee_id': 139, 'first_name': 'John', 'last_name': 'Seo', 'hire_date': '2006-02-12'}\n",
      "{'_id': ObjectId('67e4d8003149916b3ab7a764'), 'employee_id': 138, 'first_name': 'Stephen', 'last_name': 'Stiles', 'hire_date': '2005-10-26'}\n",
      "{'_id': ObjectId('67e4d8003149916b3ab7a765'), 'employee_id': 137, 'first_name': 'Renske', 'last_name': 'Ladwig', 'hire_date': '2003-07-14'}\n",
      "{'_id': ObjectId('67e4d8003149916b3ab7a766'), 'employee_id': 136, 'first_name': 'Hazel', 'last_name': 'Philtanker', 'hire_date': '2008-02-06'}\n",
      "{'_id': ObjectId('67e4d8003149916b3ab7a767'), 'employee_id': 135, 'first_name': 'Ki', 'last_name': 'Gee', 'hire_date': '2007-12-12'}\n",
      "{'_id': ObjectId('67e4d8003149916b3ab7a768'), 'employee_id': 134, 'first_name': 'Michael', 'last_name': 'Rogers', 'hire_date': '2006-08-26'}\n",
      "{'_id': ObjectId('67e4d8003149916b3ab7a769'), 'employee_id': 133, 'first_name': 'Jason', 'last_name': 'Mallin', 'hire_date': '2004-06-14'}\n",
      "{'_id': ObjectId('67e4d8003149916b3ab7a76a'), 'employee_id': 132, 'first_name': 'TJ', 'last_name': 'Olson', 'hire_date': '2007-04-10'}\n",
      "{'_id': ObjectId('67e4d8003149916b3ab7a76b'), 'employee_id': 131, 'first_name': 'James', 'last_name': '03low', 'hire_date': '2005-02-16'}\n",
      "{'_id': ObjectId('67e4d8003149916b3ab7a76c'), 'employee_id': 130, 'first_name': 'Mozhe', 'last_name': 'Atkinson', 'hire_date': '2005-10-30'}\n",
      "{'_id': ObjectId('67e4d8003149916b3ab7a76d'), 'employee_id': 129, 'first_name': 'Laura', 'last_name': 'Bissot', 'hire_date': '2005-08-20'}\n",
      "{'_id': ObjectId('67e4d8003149916b3ab7a76e'), 'employee_id': 128, 'first_name': 'Steven', 'last_name': 'Markle', 'hire_date': '2008-03-08'}\n",
      "{'_id': ObjectId('67e4d8003149916b3ab7a76f'), 'employee_id': 127, 'first_name': 'James', 'last_name': 'Landry', 'hire_date': '2007-01-14'}\n",
      "{'_id': ObjectId('67e4d8003149916b3ab7a770'), 'employee_id': 126, 'first_name': 'Irene', 'last_name': 'Mikkilineni', 'hire_date': '2006-09-28'}\n",
      "{'_id': ObjectId('67e4d8003149916b3ab7a771'), 'employee_id': 125, 'first_name': '07ia', 'last_name': 'Nayer', 'hire_date': '2005-07-16'}\n",
      "{'_id': ObjectId('67e4d8003149916b3ab7a772'), 'employee_id': 124, 'first_name': 'Kevin', 'last_name': 'Mourgos', 'hire_date': '2007-11-16'}\n",
      "{'_id': ObjectId('67e4d8003149916b3ab7a773'), 'employee_id': 123, 'first_name': 'Shanta', 'last_name': 'Vollman', 'hire_date': '2005-10-10'}\n",
      "{'_id': ObjectId('67e4d8003149916b3ab7a774'), 'employee_id': 122, 'first_name': 'Payam', 'last_name': 'Kaufling', 'hire_date': '2003-05-01'}\n",
      "{'_id': ObjectId('67e4d8003149916b3ab7a775'), 'employee_id': 121, 'first_name': 'Adam', 'last_name': 'Fripp', 'hire_date': '2005-04-10'}\n",
      "{'_id': ObjectId('67e4d8003149916b3ab7a776'), 'employee_id': 120, 'first_name': 'Matthew', 'last_name': 'Weiss', 'hire_date': '2004-07-18'}\n",
      "{'_id': ObjectId('67e4d8003149916b3ab7a777'), 'employee_id': 119, 'first_name': 'Karen', 'last_name': 'Colmenares', 'hire_date': '2007-08-10'}\n",
      "{'_id': ObjectId('67e4d8003149916b3ab7a778'), 'employee_id': 118, 'first_name': 'Guy', 'last_name': 'Himuro', 'hire_date': '2006-11-15'}\n",
      "{'_id': ObjectId('67e4d8003149916b3ab7a779'), 'employee_id': 117, 'first_name': 'Sigal', 'last_name': 'Tobias', 'hire_date': '2005-07-24'}\n",
      "{'_id': ObjectId('67e4d8003149916b3ab7a77a'), 'employee_id': 116, 'first_name': 'Shelli', 'last_name': 'Baida', 'hire_date': '2005-12-24'}\n",
      "{'_id': ObjectId('67e4d8003149916b3ab7a77b'), 'employee_id': 115, 'first_name': 'Alexander', 'last_name': 'Khoo', 'hire_date': '2003-05-18'}\n",
      "{'_id': ObjectId('67e4d8003149916b3ab7a77c'), 'employee_id': 114, 'first_name': 'Den', 'last_name': 'Raphaely', 'hire_date': '2002-12-07'}\n",
      "{'_id': ObjectId('67e4d8003149916b3ab7a77d'), 'employee_id': 113, 'first_name': 'Luis', 'last_name': 'Popp', 'hire_date': '2007-12-07'}\n",
      "{'_id': ObjectId('67e4d8003149916b3ab7a77e'), 'employee_id': 112, 'first_name': 'Jose Manuel', 'last_name': 'Urman', 'hire_date': '2006-03-07'}\n",
      "{'_id': ObjectId('67e4d8003149916b3ab7a77f'), 'employee_id': 111, 'first_name': 'Ismael', 'last_name': 'Sciarra', 'hire_date': '2005-09-30'}\n",
      "{'_id': ObjectId('67e4d8003149916b3ab7a780'), 'employee_id': 110, 'first_name': 'John', 'last_name': 'Chen', 'hire_date': '2005-09-28'}\n",
      "{'_id': ObjectId('67e4d8003149916b3ab7a781'), 'employee_id': 109, 'first_name': 'Daniel', 'last_name': 'Faviet', 'hire_date': '2002-08-16'}\n",
      "{'_id': ObjectId('67e4d8003149916b3ab7a782'), 'employee_id': 108, 'first_name': 'Nancy', 'last_name': 'Greenberg', 'hire_date': '2002-08-17'}\n",
      "{'_id': ObjectId('67e4d8003149916b3ab7a783'), 'employee_id': 107, 'first_name': 'Diana', 'last_name': 'Lorentz', 'hire_date': '2007-02-07'}\n",
      "{'_id': ObjectId('67e4d8003149916b3ab7a784'), 'employee_id': 106, 'first_name': 'Valli', 'last_name': 'Pataballa', 'hire_date': '2006-02-05'}\n",
      "{'_id': ObjectId('67e4d8003149916b3ab7a785'), 'employee_id': 105, 'first_name': 'David', 'last_name': 'Austin', 'hire_date': '2005-06-25'}\n",
      "{'_id': ObjectId('67e4d8003149916b3ab7a786'), 'employee_id': 104, 'first_name': 'Bruce', 'last_name': 'Ernst', 'hire_date': '2007-05-21'}\n",
      "{'_id': ObjectId('67e4d8003149916b3ab7a787'), 'employee_id': 103, 'first_name': 'Alexander', 'last_name': 'Hunold', 'hire_date': '2006-01-03'}\n",
      "{'_id': ObjectId('67e4d8003149916b3ab7a788'), 'employee_id': 102, 'first_name': 'Lex', 'last_name': 'De Haan', 'hire_date': '2001-01-13'}\n",
      "{'_id': ObjectId('67e4d8003149916b3ab7a789'), 'employee_id': 101, 'first_name': 'Neena', 'last_name': 'Kochhar', 'hire_date': '2005-09-21'}\n",
      "{'_id': ObjectId('67e4d8003149916b3ab7a78a'), 'employee_id': 100, 'first_name': 'Steven', 'last_name': 'King', 'hire_date': '2003-06-17'}\n",
      "{'_id': ObjectId('680218bb4bbcbf30ecb83c60'), 'first_name': 'Prakhar', 'last_name': 'Nigam', 'hire_date': '2009-04-01', 'employee_id': 542}\n"
     ]
    }
   ],
   "source": [
    "for i in coll.find():\n",
    "    print(i)"
   ]
  },
  {
   "cell_type": "code",
   "execution_count": 8,
   "metadata": {},
   "outputs": [
    {
     "name": "stdout",
     "output_type": "stream",
     "text": [
      "Inserted document ID: 680226364fdbe281ead0ccbd\n"
     ]
    }
   ],
   "source": [
    "employees = db.get_collection(name=\"employee\")\n",
    "\n",
    "\n",
    "employee_document = {\n",
    "    \"employee_id\": 219,\n",
    "    \"first_name\": \"Hailed\",\n",
    "    \"last_name\": \"Mary\",\n",
    "    \"hire_date\": \"2012-06-07\"\n",
    "}\n",
    "\n",
    "inserted_id = employees.insert_one(employee_document).inserted_id\n",
    "print(f\"Inserted document ID: {inserted_id}\")\n"
   ]
  },
  {
   "cell_type": "code",
   "execution_count": 9,
   "metadata": {},
   "outputs": [
    {
     "name": "stdout",
     "output_type": "stream",
     "text": [
      "Employee Details:\n",
      "{'_id': ObjectId('680226364fdbe281ead0ccbd'), 'employee_id': 219, 'first_name': 'Hailed', 'last_name': 'Mary', 'hire_date': '2012-06-07'}\n"
     ]
    }
   ],
   "source": [
    "employee = employees.find_one({\"employee_id\": 219})\n",
    "\n",
    "print(\"Employee Details:\")\n",
    "print(employee)\n"
   ]
  },
  {
   "cell_type": "code",
   "execution_count": 10,
   "metadata": {},
   "outputs": [
    {
     "name": "stdout",
     "output_type": "stream",
     "text": [
      "Matched 1 document, Modified 1 document\n"
     ]
    }
   ],
   "source": [
    "update_result = employees.update_one(\n",
    "    {\"employee_id\": 219},  \n",
    "    {\"$set\": {\"first_name\": \"Shelley Updated\"}}  \n",
    ")\n",
    "\n",
    "print(f\"Matched {update_result.matched_count} document, Modified {update_result.modified_count} document\")\n"
   ]
  },
  {
   "cell_type": "code",
   "execution_count": 11,
   "metadata": {},
   "outputs": [
    {
     "name": "stdout",
     "output_type": "stream",
     "text": [
      "Deleted 1 document\n"
     ]
    }
   ],
   "source": [
    "delete_result = employees.delete_one({\"employee_id\": 219})\n",
    "\n",
    "print(f\"Deleted {delete_result.deleted_count} document\")\n"
   ]
  },
  {
   "cell_type": "code",
   "execution_count": 12,
   "metadata": {},
   "outputs": [
    {
     "name": "stdout",
     "output_type": "stream",
     "text": [
      "Index on 'employee_id' created.\n"
     ]
    }
   ],
   "source": [
    "employees.create_index([(\"employee_id\", 1)])  # 1 means ascending order\n",
    "\n",
    "print(\"Index on 'employee_id' created.\")\n"
   ]
  },
  {
   "cell_type": "code",
   "execution_count": 13,
   "metadata": {},
   "outputs": [
    {
     "name": "stdout",
     "output_type": "stream",
     "text": [
      "Year: 2009, Total Employees: 1\n",
      "Year: 2008, Total Employees: 3\n",
      "Year: 2007, Total Employees: 8\n",
      "Year: 2006, Total Employees: 8\n",
      "Year: 2005, Total Employees: 14\n",
      "Year: 2004, Total Employees: 3\n",
      "Year: 2003, Total Employees: 5\n",
      "Year: 2002, Total Employees: 6\n",
      "Year: 2001, Total Employees: 1\n"
     ]
    }
   ],
   "source": [
    "from pymongo import DESCENDING\n",
    "from datetime import datetime\n",
    "\n",
    "employees.update_many(\n",
    "    {},\n",
    "    [{\"$set\": {\"hire_date\": {\"$dateFromString\": {\"dateString\": \"$hire_date\"}}}}]\n",
    ")\n",
    "\n",
    "pipeline = [\n",
    "    {\n",
    "        \"$group\": {\n",
    "            \"_id\": {\"$year\": \"$hire_date\"},  # Group by hire year\n",
    "            \"total_employees\": {\"$sum\": 1}\n",
    "        }\n",
    "    },\n",
    "    {\"$sort\": {\"_id\": DESCENDING}}  # Sort by year descending\n",
    "]\n",
    "\n",
    "result = employees.aggregate(pipeline)\n",
    "\n",
    "for year in result:\n",
    "    print(f\"Year: {year['_id']}, Total Employees: {year['total_employees']}\")"
   ]
  },
  {
   "cell_type": "code",
   "execution_count": null,
   "metadata": {},
   "outputs": [],
   "source": [
    "pipeline = [\n",
    "    #1. Match employees hired after '2000-01-01'\n",
    "    {\n",
    "        \"$match\": {\n",
    "            \"hire_date\": { \"$gt\": datetime(2000, 1, 1) }\n",
    "        }\n",
    "    },\n",
    "    \n",
    "    #2. Group by first_name and count the number of employees with that first_name\n",
    "    {\n",
    "        \"$group\": {\n",
    "            \"_id\": \"$first_name\", \n",
    "            \"total_employees\": { \"$sum\": 1 }  \n",
    "        }\n",
    "    },\n",
    "    \n",
    "    # 3. Sort the result by the count of employees in descending order\n",
    "    {\n",
    "        \"$sort\": { \"total_employees\": -1 }\n",
    "    },\n",
    "    \n",
    "    #4. Project the result to show only the first_name and total_employees\n",
    "    {\n",
    "        \"$project\": {\n",
    "            \"_id\": 0,  \n",
    "            \"first_name\": \"$_id\",  \n",
    "            \"total_employees\": 1  \n",
    "        }\n",
    "    }\n",
    "]\n",
    "\n",
    "result = employees.aggregate(pipeline)\n",
    "\n",
    "for doc in result:\n",
    "    print(doc)"
   ]
  },
  {
   "cell_type": "code",
   "execution_count": 14,
   "metadata": {},
   "outputs": [
    {
     "name": "stdout",
     "output_type": "stream",
     "text": [
      "{'_id': ObjectId('67e4d8003149916b3ab7a75b'), 'employee_id': 205, 'first_name': 'Shelley', 'last_name': 'Higgins', 'hire_date': datetime.datetime(2002, 6, 7, 0, 0)}\n",
      "{'_id': ObjectId('67e4d8003149916b3ab7a75c'), 'employee_id': 204, 'first_name': 'Hermann', 'last_name': 'Baer', 'hire_date': datetime.datetime(2002, 6, 7, 0, 0)}\n",
      "{'_id': ObjectId('67e4d8003149916b3ab7a75d'), 'employee_id': 203, 'first_name': 'Susan', 'last_name': 'Mavris', 'hire_date': datetime.datetime(2002, 6, 7, 0, 0)}\n",
      "{'_id': ObjectId('67e4d8003149916b3ab7a75e'), 'employee_id': 202, 'first_name': 'Pat', 'last_name': 'Fay', 'hire_date': datetime.datetime(2005, 8, 17, 0, 0)}\n",
      "{'_id': ObjectId('67e4d8003149916b3ab7a75f'), 'employee_id': 201, 'first_name': 'Michael', 'last_name': 'Hartstein', 'hire_date': datetime.datetime(2004, 2, 17, 0, 0)}\n",
      "{'_id': ObjectId('67e4d8003149916b3ab7a760'), 'employee_id': 200, 'first_name': 'Jennifer', 'last_name': 'Whalen', 'hire_date': datetime.datetime(2003, 9, 17, 0, 0)}\n",
      "{'_id': ObjectId('67e4d8003149916b3ab7a761'), 'employee_id': 199, 'first_name': 'Douglas', 'last_name': 'Grant', 'hire_date': datetime.datetime(2008, 1, 13, 0, 0)}\n",
      "{'_id': ObjectId('67e4d8003149916b3ab7a762'), 'employee_id': 140, 'first_name': 'Joshua', 'last_name': 'Patel', 'hire_date': datetime.datetime(2006, 4, 6, 0, 0)}\n",
      "{'_id': ObjectId('67e4d8003149916b3ab7a763'), 'employee_id': 139, 'first_name': 'John', 'last_name': 'Seo', 'hire_date': datetime.datetime(2006, 2, 12, 0, 0)}\n",
      "{'_id': ObjectId('67e4d8003149916b3ab7a764'), 'employee_id': 138, 'first_name': 'Stephen', 'last_name': 'Stiles', 'hire_date': datetime.datetime(2005, 10, 26, 0, 0)}\n",
      "{'_id': ObjectId('67e4d8003149916b3ab7a765'), 'employee_id': 137, 'first_name': 'Renske', 'last_name': 'Ladwig', 'hire_date': datetime.datetime(2003, 7, 14, 0, 0)}\n",
      "{'_id': ObjectId('67e4d8003149916b3ab7a766'), 'employee_id': 136, 'first_name': 'Hazel', 'last_name': 'Philtanker', 'hire_date': datetime.datetime(2008, 2, 6, 0, 0)}\n",
      "{'_id': ObjectId('67e4d8003149916b3ab7a767'), 'employee_id': 135, 'first_name': 'Ki', 'last_name': 'Gee', 'hire_date': datetime.datetime(2007, 12, 12, 0, 0)}\n",
      "{'_id': ObjectId('67e4d8003149916b3ab7a768'), 'employee_id': 134, 'first_name': 'Michael', 'last_name': 'Rogers', 'hire_date': datetime.datetime(2006, 8, 26, 0, 0)}\n",
      "{'_id': ObjectId('67e4d8003149916b3ab7a769'), 'employee_id': 133, 'first_name': 'Jason', 'last_name': 'Mallin', 'hire_date': datetime.datetime(2004, 6, 14, 0, 0)}\n",
      "{'_id': ObjectId('67e4d8003149916b3ab7a76a'), 'employee_id': 132, 'first_name': 'TJ', 'last_name': 'Olson', 'hire_date': datetime.datetime(2007, 4, 10, 0, 0)}\n",
      "{'_id': ObjectId('67e4d8003149916b3ab7a76b'), 'employee_id': 131, 'first_name': 'James', 'last_name': '03low', 'hire_date': datetime.datetime(2005, 2, 16, 0, 0)}\n",
      "{'_id': ObjectId('67e4d8003149916b3ab7a76c'), 'employee_id': 130, 'first_name': 'Mozhe', 'last_name': 'Atkinson', 'hire_date': datetime.datetime(2005, 10, 30, 0, 0)}\n",
      "{'_id': ObjectId('67e4d8003149916b3ab7a76d'), 'employee_id': 129, 'first_name': 'Laura', 'last_name': 'Bissot', 'hire_date': datetime.datetime(2005, 8, 20, 0, 0)}\n",
      "{'_id': ObjectId('67e4d8003149916b3ab7a76e'), 'employee_id': 128, 'first_name': 'Steven', 'last_name': 'Markle', 'hire_date': datetime.datetime(2008, 3, 8, 0, 0)}\n",
      "{'_id': ObjectId('67e4d8003149916b3ab7a76f'), 'employee_id': 127, 'first_name': 'James', 'last_name': 'Landry', 'hire_date': datetime.datetime(2007, 1, 14, 0, 0)}\n",
      "{'_id': ObjectId('67e4d8003149916b3ab7a770'), 'employee_id': 126, 'first_name': 'Irene', 'last_name': 'Mikkilineni', 'hire_date': datetime.datetime(2006, 9, 28, 0, 0)}\n",
      "{'_id': ObjectId('67e4d8003149916b3ab7a771'), 'employee_id': 125, 'first_name': '07ia', 'last_name': 'Nayer', 'hire_date': datetime.datetime(2005, 7, 16, 0, 0)}\n",
      "{'_id': ObjectId('67e4d8003149916b3ab7a772'), 'employee_id': 124, 'first_name': 'Kevin', 'last_name': 'Mourgos', 'hire_date': datetime.datetime(2007, 11, 16, 0, 0)}\n",
      "{'_id': ObjectId('67e4d8003149916b3ab7a773'), 'employee_id': 123, 'first_name': 'Shanta', 'last_name': 'Vollman', 'hire_date': datetime.datetime(2005, 10, 10, 0, 0)}\n",
      "{'_id': ObjectId('67e4d8003149916b3ab7a774'), 'employee_id': 122, 'first_name': 'Payam', 'last_name': 'Kaufling', 'hire_date': datetime.datetime(2003, 5, 1, 0, 0)}\n",
      "{'_id': ObjectId('67e4d8003149916b3ab7a775'), 'employee_id': 121, 'first_name': 'Adam', 'last_name': 'Fripp', 'hire_date': datetime.datetime(2005, 4, 10, 0, 0)}\n",
      "{'_id': ObjectId('67e4d8003149916b3ab7a776'), 'employee_id': 120, 'first_name': 'Matthew', 'last_name': 'Weiss', 'hire_date': datetime.datetime(2004, 7, 18, 0, 0)}\n",
      "{'_id': ObjectId('67e4d8003149916b3ab7a777'), 'employee_id': 119, 'first_name': 'Karen', 'last_name': 'Colmenares', 'hire_date': datetime.datetime(2007, 8, 10, 0, 0)}\n",
      "{'_id': ObjectId('67e4d8003149916b3ab7a778'), 'employee_id': 118, 'first_name': 'Guy', 'last_name': 'Himuro', 'hire_date': datetime.datetime(2006, 11, 15, 0, 0)}\n",
      "{'_id': ObjectId('67e4d8003149916b3ab7a779'), 'employee_id': 117, 'first_name': 'Sigal', 'last_name': 'Tobias', 'hire_date': datetime.datetime(2005, 7, 24, 0, 0)}\n",
      "{'_id': ObjectId('67e4d8003149916b3ab7a77a'), 'employee_id': 116, 'first_name': 'Shelli', 'last_name': 'Baida', 'hire_date': datetime.datetime(2005, 12, 24, 0, 0)}\n",
      "{'_id': ObjectId('67e4d8003149916b3ab7a77b'), 'employee_id': 115, 'first_name': 'Alexander', 'last_name': 'Khoo', 'hire_date': datetime.datetime(2003, 5, 18, 0, 0)}\n",
      "{'_id': ObjectId('67e4d8003149916b3ab7a77c'), 'employee_id': 114, 'first_name': 'Den', 'last_name': 'Raphaely', 'hire_date': datetime.datetime(2002, 12, 7, 0, 0)}\n",
      "{'_id': ObjectId('67e4d8003149916b3ab7a77d'), 'employee_id': 113, 'first_name': 'Luis', 'last_name': 'Popp', 'hire_date': datetime.datetime(2007, 12, 7, 0, 0)}\n",
      "{'_id': ObjectId('67e4d8003149916b3ab7a77e'), 'employee_id': 112, 'first_name': 'Jose Manuel', 'last_name': 'Urman', 'hire_date': datetime.datetime(2006, 3, 7, 0, 0)}\n",
      "{'_id': ObjectId('67e4d8003149916b3ab7a77f'), 'employee_id': 111, 'first_name': 'Ismael', 'last_name': 'Sciarra', 'hire_date': datetime.datetime(2005, 9, 30, 0, 0)}\n",
      "{'_id': ObjectId('67e4d8003149916b3ab7a780'), 'employee_id': 110, 'first_name': 'John', 'last_name': 'Chen', 'hire_date': datetime.datetime(2005, 9, 28, 0, 0)}\n",
      "{'_id': ObjectId('67e4d8003149916b3ab7a781'), 'employee_id': 109, 'first_name': 'Daniel', 'last_name': 'Faviet', 'hire_date': datetime.datetime(2002, 8, 16, 0, 0)}\n",
      "{'_id': ObjectId('67e4d8003149916b3ab7a782'), 'employee_id': 108, 'first_name': 'Nancy', 'last_name': 'Greenberg', 'hire_date': datetime.datetime(2002, 8, 17, 0, 0)}\n",
      "{'_id': ObjectId('67e4d8003149916b3ab7a783'), 'employee_id': 107, 'first_name': 'Diana', 'last_name': 'Lorentz', 'hire_date': datetime.datetime(2007, 2, 7, 0, 0)}\n",
      "{'_id': ObjectId('67e4d8003149916b3ab7a784'), 'employee_id': 106, 'first_name': 'Valli', 'last_name': 'Pataballa', 'hire_date': datetime.datetime(2006, 2, 5, 0, 0)}\n",
      "{'_id': ObjectId('67e4d8003149916b3ab7a785'), 'employee_id': 105, 'first_name': 'David', 'last_name': 'Austin', 'hire_date': datetime.datetime(2005, 6, 25, 0, 0)}\n",
      "{'_id': ObjectId('67e4d8003149916b3ab7a786'), 'employee_id': 104, 'first_name': 'Bruce', 'last_name': 'Ernst', 'hire_date': datetime.datetime(2007, 5, 21, 0, 0)}\n",
      "{'_id': ObjectId('67e4d8003149916b3ab7a787'), 'employee_id': 103, 'first_name': 'Alexander', 'last_name': 'Hunold', 'hire_date': datetime.datetime(2006, 1, 3, 0, 0)}\n",
      "{'_id': ObjectId('67e4d8003149916b3ab7a788'), 'employee_id': 102, 'first_name': 'Lex', 'last_name': 'De Haan', 'hire_date': datetime.datetime(2001, 1, 13, 0, 0)}\n",
      "{'_id': ObjectId('67e4d8003149916b3ab7a789'), 'employee_id': 101, 'first_name': 'Neena', 'last_name': 'Kochhar', 'hire_date': datetime.datetime(2005, 9, 21, 0, 0)}\n",
      "{'_id': ObjectId('67e4d8003149916b3ab7a78a'), 'employee_id': 100, 'first_name': 'Steven', 'last_name': 'King', 'hire_date': datetime.datetime(2003, 6, 17, 0, 0)}\n",
      "{'_id': ObjectId('680218bb4bbcbf30ecb83c60'), 'first_name': 'Prakhar', 'last_name': 'Nigam', 'hire_date': datetime.datetime(2009, 4, 1, 0, 0), 'employee_id': 542}\n"
     ]
    }
   ],
   "source": [
    "query = {\n",
    "    \"hire_date\": {\"$gt\": datetime(2000, 1, 1)}\n",
    "}\n",
    "\n",
    "employees_after_2000 = employees.find(query)\n",
    "\n",
    "for emp in employees_after_2000:\n",
    "    print(emp)\n"
   ]
  },
  {
   "cell_type": "code",
   "execution_count": null,
   "metadata": {},
   "outputs": [
    {
     "name": "stdout",
     "output_type": "stream",
     "text": [
      "Transaction aborted due to error: Transaction numbers are only allowed on a replica set member or mongos, full error: {'ok': 0.0, 'errmsg': 'Transaction numbers are only allowed on a replica set member or mongos', 'code': 20, 'codeName': 'IllegalOperation'}\n"
     ]
    }
   ],
   "source": [
    "session = client.start_session()\n",
    "\n",
    "with session.start_transaction():\n",
    "    try:\n",
    "        employees.update_one({\"employee_id\": 205}, {\"$set\": {\"first_name\": \"Shelley Transaction\"}}, session=session)\n",
    "        employees.update_one({\"employee_id\": 206}, {\"$set\": {\"first_name\": \"John Transaction\"}}, session=session)\n",
    "\n",
    "        session.commit_transaction()\n",
    "        print(\"Transaction committed!\")\n",
    "    except Exception as e:\n",
    "        session.abort_transaction()\n",
    "        print(f\"Transaction aborted due to error: {e}\")\n"
   ]
  }
 ],
 "metadata": {
  "kernelspec": {
   "display_name": "dbvenv",
   "language": "python",
   "name": "python3"
  },
  "language_info": {
   "codemirror_mode": {
    "name": "ipython",
    "version": 3
   },
   "file_extension": ".py",
   "mimetype": "text/x-python",
   "name": "python",
   "nbconvert_exporter": "python",
   "pygments_lexer": "ipython3",
   "version": "3.12.3"
  }
 },
 "nbformat": 4,
 "nbformat_minor": 2
}
